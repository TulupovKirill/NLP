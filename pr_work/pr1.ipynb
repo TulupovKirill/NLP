{
 "cells": [
  {
   "cell_type": "markdown",
   "metadata": {},
   "source": [
    "# Лабораторная 1. Классификация с помощью PyTorch"
   ]
  },
  {
   "cell_type": "markdown",
   "metadata": {},
   "source": [
    "## Импорт библиотек и модулей"
   ]
  },
  {
   "cell_type": "code",
   "execution_count": 1,
   "metadata": {},
   "outputs": [],
   "source": [
    "import torch\n",
    "import pandas as pd\n",
    "import numpy as np\n",
    "from sklearn.preprocessing import StandardScaler\n",
    "from sklearn.model_selection import train_test_split\n",
    "from imblearn.under_sampling import RandomUnderSampler\n",
    "from sklearn.metrics import classification_report"
   ]
  },
  {
   "cell_type": "markdown",
   "metadata": {},
   "source": [
    "## Предобработка данных"
   ]
  },
  {
   "cell_type": "markdown",
   "metadata": {},
   "source": [
    "### Загрузка датасета"
   ]
  },
  {
   "cell_type": "code",
   "execution_count": 2,
   "metadata": {},
   "outputs": [
    {
     "data": {
      "text/html": [
       "<div>\n",
       "<style scoped>\n",
       "    .dataframe tbody tr th:only-of-type {\n",
       "        vertical-align: middle;\n",
       "    }\n",
       "\n",
       "    .dataframe tbody tr th {\n",
       "        vertical-align: top;\n",
       "    }\n",
       "\n",
       "    .dataframe thead th {\n",
       "        text-align: right;\n",
       "    }\n",
       "</style>\n",
       "<table border=\"1\" class=\"dataframe\">\n",
       "  <thead>\n",
       "    <tr style=\"text-align: right;\">\n",
       "      <th></th>\n",
       "      <th>time_left</th>\n",
       "      <th>ct_score</th>\n",
       "      <th>t_score</th>\n",
       "      <th>map</th>\n",
       "      <th>bomb_planted</th>\n",
       "      <th>ct_health</th>\n",
       "      <th>t_health</th>\n",
       "      <th>ct_armor</th>\n",
       "      <th>t_armor</th>\n",
       "      <th>ct_money</th>\n",
       "      <th>t_money</th>\n",
       "      <th>ct_helmets</th>\n",
       "      <th>t_helmets</th>\n",
       "      <th>ct_defuse_kits</th>\n",
       "      <th>ct_players_alive</th>\n",
       "      <th>t_players_alive</th>\n",
       "    </tr>\n",
       "  </thead>\n",
       "  <tbody>\n",
       "    <tr>\n",
       "      <th>0</th>\n",
       "      <td>175.00</td>\n",
       "      <td>0.0</td>\n",
       "      <td>0.0</td>\n",
       "      <td>de_dust2</td>\n",
       "      <td>False</td>\n",
       "      <td>500.0</td>\n",
       "      <td>500.0</td>\n",
       "      <td>0.0</td>\n",
       "      <td>0.0</td>\n",
       "      <td>4000.0</td>\n",
       "      <td>4000.0</td>\n",
       "      <td>0.0</td>\n",
       "      <td>0.0</td>\n",
       "      <td>0.0</td>\n",
       "      <td>5.0</td>\n",
       "      <td>5.0</td>\n",
       "    </tr>\n",
       "    <tr>\n",
       "      <th>1</th>\n",
       "      <td>156.03</td>\n",
       "      <td>0.0</td>\n",
       "      <td>0.0</td>\n",
       "      <td>de_dust2</td>\n",
       "      <td>False</td>\n",
       "      <td>500.0</td>\n",
       "      <td>500.0</td>\n",
       "      <td>400.0</td>\n",
       "      <td>300.0</td>\n",
       "      <td>600.0</td>\n",
       "      <td>650.0</td>\n",
       "      <td>0.0</td>\n",
       "      <td>0.0</td>\n",
       "      <td>1.0</td>\n",
       "      <td>5.0</td>\n",
       "      <td>5.0</td>\n",
       "    </tr>\n",
       "    <tr>\n",
       "      <th>2</th>\n",
       "      <td>96.03</td>\n",
       "      <td>0.0</td>\n",
       "      <td>0.0</td>\n",
       "      <td>de_dust2</td>\n",
       "      <td>False</td>\n",
       "      <td>391.0</td>\n",
       "      <td>400.0</td>\n",
       "      <td>294.0</td>\n",
       "      <td>200.0</td>\n",
       "      <td>750.0</td>\n",
       "      <td>500.0</td>\n",
       "      <td>0.0</td>\n",
       "      <td>0.0</td>\n",
       "      <td>1.0</td>\n",
       "      <td>4.0</td>\n",
       "      <td>4.0</td>\n",
       "    </tr>\n",
       "    <tr>\n",
       "      <th>3</th>\n",
       "      <td>76.03</td>\n",
       "      <td>0.0</td>\n",
       "      <td>0.0</td>\n",
       "      <td>de_dust2</td>\n",
       "      <td>False</td>\n",
       "      <td>391.0</td>\n",
       "      <td>400.0</td>\n",
       "      <td>294.0</td>\n",
       "      <td>200.0</td>\n",
       "      <td>750.0</td>\n",
       "      <td>500.0</td>\n",
       "      <td>0.0</td>\n",
       "      <td>0.0</td>\n",
       "      <td>1.0</td>\n",
       "      <td>4.0</td>\n",
       "      <td>4.0</td>\n",
       "    </tr>\n",
       "    <tr>\n",
       "      <th>4</th>\n",
       "      <td>174.97</td>\n",
       "      <td>1.0</td>\n",
       "      <td>0.0</td>\n",
       "      <td>de_dust2</td>\n",
       "      <td>False</td>\n",
       "      <td>500.0</td>\n",
       "      <td>500.0</td>\n",
       "      <td>192.0</td>\n",
       "      <td>0.0</td>\n",
       "      <td>18350.0</td>\n",
       "      <td>10750.0</td>\n",
       "      <td>0.0</td>\n",
       "      <td>0.0</td>\n",
       "      <td>1.0</td>\n",
       "      <td>5.0</td>\n",
       "      <td>5.0</td>\n",
       "    </tr>\n",
       "    <tr>\n",
       "      <th>...</th>\n",
       "      <td>...</td>\n",
       "      <td>...</td>\n",
       "      <td>...</td>\n",
       "      <td>...</td>\n",
       "      <td>...</td>\n",
       "      <td>...</td>\n",
       "      <td>...</td>\n",
       "      <td>...</td>\n",
       "      <td>...</td>\n",
       "      <td>...</td>\n",
       "      <td>...</td>\n",
       "      <td>...</td>\n",
       "      <td>...</td>\n",
       "      <td>...</td>\n",
       "      <td>...</td>\n",
       "      <td>...</td>\n",
       "    </tr>\n",
       "    <tr>\n",
       "      <th>122405</th>\n",
       "      <td>15.41</td>\n",
       "      <td>11.0</td>\n",
       "      <td>14.0</td>\n",
       "      <td>de_train</td>\n",
       "      <td>True</td>\n",
       "      <td>200.0</td>\n",
       "      <td>242.0</td>\n",
       "      <td>195.0</td>\n",
       "      <td>359.0</td>\n",
       "      <td>100.0</td>\n",
       "      <td>5950.0</td>\n",
       "      <td>2.0</td>\n",
       "      <td>4.0</td>\n",
       "      <td>1.0</td>\n",
       "      <td>2.0</td>\n",
       "      <td>4.0</td>\n",
       "    </tr>\n",
       "    <tr>\n",
       "      <th>122406</th>\n",
       "      <td>174.93</td>\n",
       "      <td>11.0</td>\n",
       "      <td>15.0</td>\n",
       "      <td>de_train</td>\n",
       "      <td>False</td>\n",
       "      <td>500.0</td>\n",
       "      <td>500.0</td>\n",
       "      <td>95.0</td>\n",
       "      <td>175.0</td>\n",
       "      <td>11500.0</td>\n",
       "      <td>23900.0</td>\n",
       "      <td>1.0</td>\n",
       "      <td>2.0</td>\n",
       "      <td>1.0</td>\n",
       "      <td>5.0</td>\n",
       "      <td>5.0</td>\n",
       "    </tr>\n",
       "    <tr>\n",
       "      <th>122407</th>\n",
       "      <td>114.93</td>\n",
       "      <td>11.0</td>\n",
       "      <td>15.0</td>\n",
       "      <td>de_train</td>\n",
       "      <td>False</td>\n",
       "      <td>500.0</td>\n",
       "      <td>500.0</td>\n",
       "      <td>495.0</td>\n",
       "      <td>475.0</td>\n",
       "      <td>1200.0</td>\n",
       "      <td>6700.0</td>\n",
       "      <td>3.0</td>\n",
       "      <td>5.0</td>\n",
       "      <td>1.0</td>\n",
       "      <td>5.0</td>\n",
       "      <td>5.0</td>\n",
       "    </tr>\n",
       "    <tr>\n",
       "      <th>122408</th>\n",
       "      <td>94.93</td>\n",
       "      <td>11.0</td>\n",
       "      <td>15.0</td>\n",
       "      <td>de_train</td>\n",
       "      <td>False</td>\n",
       "      <td>500.0</td>\n",
       "      <td>500.0</td>\n",
       "      <td>495.0</td>\n",
       "      <td>475.0</td>\n",
       "      <td>1200.0</td>\n",
       "      <td>6700.0</td>\n",
       "      <td>3.0</td>\n",
       "      <td>5.0</td>\n",
       "      <td>1.0</td>\n",
       "      <td>5.0</td>\n",
       "      <td>5.0</td>\n",
       "    </tr>\n",
       "    <tr>\n",
       "      <th>122409</th>\n",
       "      <td>74.93</td>\n",
       "      <td>11.0</td>\n",
       "      <td>15.0</td>\n",
       "      <td>de_train</td>\n",
       "      <td>False</td>\n",
       "      <td>375.0</td>\n",
       "      <td>479.0</td>\n",
       "      <td>395.0</td>\n",
       "      <td>466.0</td>\n",
       "      <td>1100.0</td>\n",
       "      <td>7000.0</td>\n",
       "      <td>2.0</td>\n",
       "      <td>5.0</td>\n",
       "      <td>1.0</td>\n",
       "      <td>4.0</td>\n",
       "      <td>5.0</td>\n",
       "    </tr>\n",
       "  </tbody>\n",
       "</table>\n",
       "<p>122410 rows × 16 columns</p>\n",
       "</div>"
      ],
      "text/plain": [
       "        time_left  ct_score  t_score       map  bomb_planted  ct_health  \\\n",
       "0          175.00       0.0      0.0  de_dust2         False      500.0   \n",
       "1          156.03       0.0      0.0  de_dust2         False      500.0   \n",
       "2           96.03       0.0      0.0  de_dust2         False      391.0   \n",
       "3           76.03       0.0      0.0  de_dust2         False      391.0   \n",
       "4          174.97       1.0      0.0  de_dust2         False      500.0   \n",
       "...           ...       ...      ...       ...           ...        ...   \n",
       "122405      15.41      11.0     14.0  de_train          True      200.0   \n",
       "122406     174.93      11.0     15.0  de_train         False      500.0   \n",
       "122407     114.93      11.0     15.0  de_train         False      500.0   \n",
       "122408      94.93      11.0     15.0  de_train         False      500.0   \n",
       "122409      74.93      11.0     15.0  de_train         False      375.0   \n",
       "\n",
       "        t_health  ct_armor  t_armor  ct_money  t_money  ct_helmets  t_helmets  \\\n",
       "0          500.0       0.0      0.0    4000.0   4000.0         0.0        0.0   \n",
       "1          500.0     400.0    300.0     600.0    650.0         0.0        0.0   \n",
       "2          400.0     294.0    200.0     750.0    500.0         0.0        0.0   \n",
       "3          400.0     294.0    200.0     750.0    500.0         0.0        0.0   \n",
       "4          500.0     192.0      0.0   18350.0  10750.0         0.0        0.0   \n",
       "...          ...       ...      ...       ...      ...         ...        ...   \n",
       "122405     242.0     195.0    359.0     100.0   5950.0         2.0        4.0   \n",
       "122406     500.0      95.0    175.0   11500.0  23900.0         1.0        2.0   \n",
       "122407     500.0     495.0    475.0    1200.0   6700.0         3.0        5.0   \n",
       "122408     500.0     495.0    475.0    1200.0   6700.0         3.0        5.0   \n",
       "122409     479.0     395.0    466.0    1100.0   7000.0         2.0        5.0   \n",
       "\n",
       "        ct_defuse_kits  ct_players_alive  t_players_alive  \n",
       "0                  0.0               5.0              5.0  \n",
       "1                  1.0               5.0              5.0  \n",
       "2                  1.0               4.0              4.0  \n",
       "3                  1.0               4.0              4.0  \n",
       "4                  1.0               5.0              5.0  \n",
       "...                ...               ...              ...  \n",
       "122405             1.0               2.0              4.0  \n",
       "122406             1.0               5.0              5.0  \n",
       "122407             1.0               5.0              5.0  \n",
       "122408             1.0               5.0              5.0  \n",
       "122409             1.0               4.0              5.0  \n",
       "\n",
       "[122410 rows x 16 columns]"
      ]
     },
     "execution_count": 2,
     "metadata": {},
     "output_type": "execute_result"
    }
   ],
   "source": [
    "df = pd.read_csv(\"../data/csgo_task.csv\")\n",
    "df"
   ]
  },
  {
   "cell_type": "code",
   "execution_count": 3,
   "metadata": {},
   "outputs": [
    {
     "name": "stdout",
     "output_type": "stream",
     "text": [
      "<class 'pandas.core.frame.DataFrame'>\n",
      "RangeIndex: 122410 entries, 0 to 122409\n",
      "Data columns (total 16 columns):\n",
      " #   Column            Non-Null Count   Dtype  \n",
      "---  ------            --------------   -----  \n",
      " 0   time_left         122410 non-null  float64\n",
      " 1   ct_score          122410 non-null  float64\n",
      " 2   t_score           121386 non-null  float64\n",
      " 3   map               122199 non-null  object \n",
      " 4   bomb_planted      122410 non-null  bool   \n",
      " 5   ct_health         122410 non-null  float64\n",
      " 6   t_health          121627 non-null  float64\n",
      " 7   ct_armor          122410 non-null  float64\n",
      " 8   t_armor           122410 non-null  float64\n",
      " 9   ct_money          122410 non-null  float64\n",
      " 10  t_money           122410 non-null  float64\n",
      " 11  ct_helmets        121766 non-null  float64\n",
      " 12  t_helmets         121560 non-null  float64\n",
      " 13  ct_defuse_kits    121766 non-null  float64\n",
      " 14  ct_players_alive  122410 non-null  float64\n",
      " 15  t_players_alive   122182 non-null  float64\n",
      "dtypes: bool(1), float64(14), object(1)\n",
      "memory usage: 14.1+ MB\n"
     ]
    }
   ],
   "source": [
    "df.info()"
   ]
  },
  {
   "cell_type": "markdown",
   "metadata": {},
   "source": [
    "### Пропущенные значения"
   ]
  },
  {
   "cell_type": "code",
   "execution_count": 4,
   "metadata": {},
   "outputs": [
    {
     "data": {
      "text/plain": [
       "time_left              0\n",
       "ct_score               0\n",
       "t_score             1024\n",
       "map                  211\n",
       "bomb_planted           0\n",
       "ct_health              0\n",
       "t_health             783\n",
       "ct_armor               0\n",
       "t_armor                0\n",
       "ct_money               0\n",
       "t_money                0\n",
       "ct_helmets           644\n",
       "t_helmets            850\n",
       "ct_defuse_kits       644\n",
       "ct_players_alive       0\n",
       "t_players_alive      228\n",
       "dtype: int64"
      ]
     },
     "execution_count": 4,
     "metadata": {},
     "output_type": "execute_result"
    }
   ],
   "source": [
    "df.isnull().sum()"
   ]
  },
  {
   "cell_type": "markdown",
   "metadata": {},
   "source": [
    "### Изменения типов данных с float64 на int32"
   ]
  },
  {
   "cell_type": "code",
   "execution_count": 5,
   "metadata": {},
   "outputs": [],
   "source": [
    "name_columns_type_float = [\"t_score\", \"ct_score\", \"ct_health\", \"t_health\", \"ct_armor\",\n",
    "                           \"t_armor\", \"ct_money\", \"t_money\", \"ct_defuse_kits\", \"ct_helmets\",\n",
    "                           \"t_helmets\", \"ct_players_alive\", \"t_players_alive\"]\n",
    "\n",
    "for name in name_columns_type_float:\n",
    "    df[name] = df[name].astype(\"Int32\")"
   ]
  },
  {
   "cell_type": "markdown",
   "metadata": {},
   "source": [
    "### Заполенение пропущенных значений\n",
    "\n",
    "1. Если это целое число, то замена на median\n",
    "2. Если это число с плавающей точкой, то замена на mean\n",
    "3. Если это дискретное значение, то замена на mode"
   ]
  },
  {
   "cell_type": "code",
   "execution_count": 6,
   "metadata": {},
   "outputs": [],
   "source": [
    "df['t_score'] = df['t_score'].fillna(6)\n",
    "df['map'] = df['map'].fillna('de_inferno')\n",
    "df['t_health'] = df['t_health'].fillna(500)\n",
    "df['ct_helmets'] = df['ct_helmets'].fillna(2.0)\n",
    "df['t_helmets'] = df['t_helmets'].fillna(3.0)\n",
    "df['t_players_alive'] = df['t_players_alive'].fillna(5.0)\n",
    "df['ct_defuse_kits'] = df['ct_defuse_kits'].fillna(0.0)"
   ]
  },
  {
   "cell_type": "code",
   "execution_count": 7,
   "metadata": {},
   "outputs": [],
   "source": [
    "dict_pathch = {\n",
    "    'de_dust2': 0,\n",
    "    'de_mirage': 1,\n",
    "    'de_inferno': 2,\n",
    "    'de_nuke': 3,\n",
    "    'de_overpass': 4,\n",
    "    'de_vertigo': 5,\n",
    "    'de_train': 6,\n",
    "    'de_cache': 7\n",
    "}\n",
    "df['map'] = df['map'].map(dict_pathch)\n"
   ]
  },
  {
   "cell_type": "code",
   "execution_count": 8,
   "metadata": {},
   "outputs": [],
   "source": [
    "dict_pathch = {\n",
    "    False: 0,\n",
    "    True: 1\n",
    "}\n",
    "df['bomb_planted'] = df['bomb_planted'].map(dict_pathch)"
   ]
  },
  {
   "cell_type": "markdown",
   "metadata": {},
   "source": [
    "### Удаление дубликатов"
   ]
  },
  {
   "cell_type": "code",
   "execution_count": 9,
   "metadata": {},
   "outputs": [],
   "source": [
    "df = df.drop_duplicates().reset_index(drop=True)"
   ]
  },
  {
   "cell_type": "code",
   "execution_count": 10,
   "metadata": {},
   "outputs": [
    {
     "name": "stdout",
     "output_type": "stream",
     "text": [
      "<class 'pandas.core.frame.DataFrame'>\n",
      "RangeIndex: 116693 entries, 0 to 116692\n",
      "Data columns (total 16 columns):\n",
      " #   Column            Non-Null Count   Dtype  \n",
      "---  ------            --------------   -----  \n",
      " 0   time_left         116693 non-null  float64\n",
      " 1   ct_score          116693 non-null  Int32  \n",
      " 2   t_score           116693 non-null  Int32  \n",
      " 3   map               116693 non-null  int64  \n",
      " 4   bomb_planted      116693 non-null  int64  \n",
      " 5   ct_health         116693 non-null  Int32  \n",
      " 6   t_health          116693 non-null  Int32  \n",
      " 7   ct_armor          116693 non-null  Int32  \n",
      " 8   t_armor           116693 non-null  Int32  \n",
      " 9   ct_money          116693 non-null  Int32  \n",
      " 10  t_money           116693 non-null  Int32  \n",
      " 11  ct_helmets        116693 non-null  Int32  \n",
      " 12  t_helmets         116693 non-null  Int32  \n",
      " 13  ct_defuse_kits    116693 non-null  Int32  \n",
      " 14  ct_players_alive  116693 non-null  Int32  \n",
      " 15  t_players_alive   116693 non-null  Int32  \n",
      "dtypes: Int32(13), float64(1), int64(2)\n",
      "memory usage: 9.9 MB\n"
     ]
    }
   ],
   "source": [
    "df.info()"
   ]
  },
  {
   "cell_type": "code",
   "execution_count": 11,
   "metadata": {},
   "outputs": [
    {
     "data": {
      "text/html": [
       "<div>\n",
       "<style scoped>\n",
       "    .dataframe tbody tr th:only-of-type {\n",
       "        vertical-align: middle;\n",
       "    }\n",
       "\n",
       "    .dataframe tbody tr th {\n",
       "        vertical-align: top;\n",
       "    }\n",
       "\n",
       "    .dataframe thead th {\n",
       "        text-align: right;\n",
       "    }\n",
       "</style>\n",
       "<table border=\"1\" class=\"dataframe\">\n",
       "  <thead>\n",
       "    <tr style=\"text-align: right;\">\n",
       "      <th></th>\n",
       "      <th>time_left</th>\n",
       "      <th>ct_score</th>\n",
       "      <th>t_score</th>\n",
       "      <th>map</th>\n",
       "      <th>bomb_planted</th>\n",
       "      <th>ct_health</th>\n",
       "      <th>t_health</th>\n",
       "      <th>ct_armor</th>\n",
       "      <th>t_armor</th>\n",
       "      <th>ct_money</th>\n",
       "      <th>t_money</th>\n",
       "      <th>ct_helmets</th>\n",
       "      <th>t_helmets</th>\n",
       "      <th>ct_defuse_kits</th>\n",
       "      <th>ct_players_alive</th>\n",
       "      <th>t_players_alive</th>\n",
       "    </tr>\n",
       "  </thead>\n",
       "  <tbody>\n",
       "    <tr>\n",
       "      <th>count</th>\n",
       "      <td>116693.000000</td>\n",
       "      <td>116693.0</td>\n",
       "      <td>116693.0</td>\n",
       "      <td>116693.000000</td>\n",
       "      <td>116693.000000</td>\n",
       "      <td>116693.0</td>\n",
       "      <td>116693.0</td>\n",
       "      <td>116693.0</td>\n",
       "      <td>116693.0</td>\n",
       "      <td>116693.0</td>\n",
       "      <td>116693.0</td>\n",
       "      <td>116693.0</td>\n",
       "      <td>116693.0</td>\n",
       "      <td>116693.0</td>\n",
       "      <td>116693.0</td>\n",
       "      <td>116693.0</td>\n",
       "    </tr>\n",
       "    <tr>\n",
       "      <th>mean</th>\n",
       "      <td>94.148813</td>\n",
       "      <td>6.776122</td>\n",
       "      <td>6.830555</td>\n",
       "      <td>2.592169</td>\n",
       "      <td>0.117265</td>\n",
       "      <td>407.939337</td>\n",
       "      <td>398.666638</td>\n",
       "      <td>319.574088</td>\n",
       "      <td>304.309153</td>\n",
       "      <td>10014.031262</td>\n",
       "      <td>11515.060029</td>\n",
       "      <td>2.13419</td>\n",
       "      <td>2.887637</td>\n",
       "      <td>1.651264</td>\n",
       "      <td>4.23956</td>\n",
       "      <td>4.232062</td>\n",
       "    </tr>\n",
       "    <tr>\n",
       "      <th>std</th>\n",
       "      <td>53.020753</td>\n",
       "      <td>4.803559</td>\n",
       "      <td>4.813609</td>\n",
       "      <td>1.936556</td>\n",
       "      <td>0.321737</td>\n",
       "      <td>134.06513</td>\n",
       "      <td>141.387219</td>\n",
       "      <td>169.175948</td>\n",
       "      <td>173.166751</td>\n",
       "      <td>11269.167104</td>\n",
       "      <td>12211.614541</td>\n",
       "      <td>1.824536</td>\n",
       "      <td>1.962226</td>\n",
       "      <td>1.614035</td>\n",
       "      <td>1.22394</td>\n",
       "      <td>1.246542</td>\n",
       "    </tr>\n",
       "    <tr>\n",
       "      <th>min</th>\n",
       "      <td>0.010000</td>\n",
       "      <td>0.0</td>\n",
       "      <td>0.0</td>\n",
       "      <td>0.000000</td>\n",
       "      <td>0.000000</td>\n",
       "      <td>0.0</td>\n",
       "      <td>0.0</td>\n",
       "      <td>0.0</td>\n",
       "      <td>0.0</td>\n",
       "      <td>0.0</td>\n",
       "      <td>0.0</td>\n",
       "      <td>0.0</td>\n",
       "      <td>0.0</td>\n",
       "      <td>0.0</td>\n",
       "      <td>0.0</td>\n",
       "      <td>0.0</td>\n",
       "    </tr>\n",
       "    <tr>\n",
       "      <th>25%</th>\n",
       "      <td>54.900000</td>\n",
       "      <td>3.0</td>\n",
       "      <td>3.0</td>\n",
       "      <td>1.000000</td>\n",
       "      <td>0.000000</td>\n",
       "      <td>333.0</td>\n",
       "      <td>309.0</td>\n",
       "      <td>196.0</td>\n",
       "      <td>181.0</td>\n",
       "      <td>1300.0</td>\n",
       "      <td>1650.0</td>\n",
       "      <td>0.0</td>\n",
       "      <td>1.0</td>\n",
       "      <td>0.0</td>\n",
       "      <td>4.0</td>\n",
       "      <td>4.0</td>\n",
       "    </tr>\n",
       "    <tr>\n",
       "      <th>50%</th>\n",
       "      <td>94.870000</td>\n",
       "      <td>6.0</td>\n",
       "      <td>6.0</td>\n",
       "      <td>2.000000</td>\n",
       "      <td>0.000000</td>\n",
       "      <td>500.0</td>\n",
       "      <td>500.0</td>\n",
       "      <td>384.0</td>\n",
       "      <td>356.0</td>\n",
       "      <td>6000.0</td>\n",
       "      <td>7750.0</td>\n",
       "      <td>2.0</td>\n",
       "      <td>3.0</td>\n",
       "      <td>1.0</td>\n",
       "      <td>5.0</td>\n",
       "      <td>5.0</td>\n",
       "    </tr>\n",
       "    <tr>\n",
       "      <th>75%</th>\n",
       "      <td>114.960000</td>\n",
       "      <td>10.0</td>\n",
       "      <td>10.0</td>\n",
       "      <td>4.000000</td>\n",
       "      <td>0.000000</td>\n",
       "      <td>500.0</td>\n",
       "      <td>500.0</td>\n",
       "      <td>487.0</td>\n",
       "      <td>471.0</td>\n",
       "      <td>15050.0</td>\n",
       "      <td>18350.0</td>\n",
       "      <td>4.0</td>\n",
       "      <td>5.0</td>\n",
       "      <td>3.0</td>\n",
       "      <td>5.0</td>\n",
       "      <td>5.0</td>\n",
       "    </tr>\n",
       "    <tr>\n",
       "      <th>max</th>\n",
       "      <td>175.000000</td>\n",
       "      <td>32.0</td>\n",
       "      <td>33.0</td>\n",
       "      <td>7.000000</td>\n",
       "      <td>1.000000</td>\n",
       "      <td>500.0</td>\n",
       "      <td>600.0</td>\n",
       "      <td>500.0</td>\n",
       "      <td>500.0</td>\n",
       "      <td>80000.0</td>\n",
       "      <td>80000.0</td>\n",
       "      <td>5.0</td>\n",
       "      <td>5.0</td>\n",
       "      <td>5.0</td>\n",
       "      <td>5.0</td>\n",
       "      <td>6.0</td>\n",
       "    </tr>\n",
       "  </tbody>\n",
       "</table>\n",
       "</div>"
      ],
      "text/plain": [
       "           time_left  ct_score   t_score            map   bomb_planted  \\\n",
       "count  116693.000000  116693.0  116693.0  116693.000000  116693.000000   \n",
       "mean       94.148813  6.776122  6.830555       2.592169       0.117265   \n",
       "std        53.020753  4.803559  4.813609       1.936556       0.321737   \n",
       "min         0.010000       0.0       0.0       0.000000       0.000000   \n",
       "25%        54.900000       3.0       3.0       1.000000       0.000000   \n",
       "50%        94.870000       6.0       6.0       2.000000       0.000000   \n",
       "75%       114.960000      10.0      10.0       4.000000       0.000000   \n",
       "max       175.000000      32.0      33.0       7.000000       1.000000   \n",
       "\n",
       "        ct_health    t_health    ct_armor     t_armor      ct_money  \\\n",
       "count    116693.0    116693.0    116693.0    116693.0      116693.0   \n",
       "mean   407.939337  398.666638  319.574088  304.309153  10014.031262   \n",
       "std     134.06513  141.387219  169.175948  173.166751  11269.167104   \n",
       "min           0.0         0.0         0.0         0.0           0.0   \n",
       "25%         333.0       309.0       196.0       181.0        1300.0   \n",
       "50%         500.0       500.0       384.0       356.0        6000.0   \n",
       "75%         500.0       500.0       487.0       471.0       15050.0   \n",
       "max         500.0       600.0       500.0       500.0       80000.0   \n",
       "\n",
       "            t_money  ct_helmets  t_helmets  ct_defuse_kits  ct_players_alive  \\\n",
       "count      116693.0    116693.0   116693.0        116693.0          116693.0   \n",
       "mean   11515.060029     2.13419   2.887637        1.651264           4.23956   \n",
       "std    12211.614541    1.824536   1.962226        1.614035           1.22394   \n",
       "min             0.0         0.0        0.0             0.0               0.0   \n",
       "25%          1650.0         0.0        1.0             0.0               4.0   \n",
       "50%          7750.0         2.0        3.0             1.0               5.0   \n",
       "75%         18350.0         4.0        5.0             3.0               5.0   \n",
       "max         80000.0         5.0        5.0             5.0               5.0   \n",
       "\n",
       "       t_players_alive  \n",
       "count         116693.0  \n",
       "mean          4.232062  \n",
       "std           1.246542  \n",
       "min                0.0  \n",
       "25%                4.0  \n",
       "50%                5.0  \n",
       "75%                5.0  \n",
       "max                6.0  "
      ]
     },
     "execution_count": 11,
     "metadata": {},
     "output_type": "execute_result"
    }
   ],
   "source": [
    "df.describe()"
   ]
  },
  {
   "cell_type": "markdown",
   "metadata": {},
   "source": [
    "## Выделение на обучающую и тестовую выборки\n",
    "\n",
    "Так как целевой признак бинарный, то производится балансировка классов. Делается это приведением числа мажорного класса к минорному. Затем в выборке надо сохраняем пропорции."
   ]
  },
  {
   "cell_type": "code",
   "execution_count": 12,
   "metadata": {},
   "outputs": [],
   "source": [
    "X = StandardScaler().fit_transform(df.drop(['bomb_planted'], axis=1))\n",
    "X = pd.DataFrame(X).values\n",
    "Y = df['bomb_planted'].values\n",
    "rus = RandomUnderSampler()\n",
    "\n",
    "X_resampled, y_resampled = rus.fit_resample(X, Y)\n",
    "\n",
    "y_resampled = y_resampled.reshape(-1, 1)\n",
    "\n",
    "X_train, X_test, y_train, y_test = train_test_split(X_resampled, y_resampled, train_size=0.3, random_state=42, stratify=y_resampled)"
   ]
  },
  {
   "cell_type": "code",
   "execution_count": 13,
   "metadata": {},
   "outputs": [
    {
     "data": {
      "text/plain": [
       "((8210, 15), (19158, 15), (8210, 1), (19158, 1))"
      ]
     },
     "execution_count": 13,
     "metadata": {},
     "output_type": "execute_result"
    }
   ],
   "source": [
    "X_train.shape, X_test.shape, y_train.shape, y_test.shape"
   ]
  },
  {
   "cell_type": "code",
   "execution_count": 14,
   "metadata": {},
   "outputs": [],
   "source": [
    "from torch.utils.data import TensorDataset, DataLoader"
   ]
  },
  {
   "cell_type": "markdown",
   "metadata": {},
   "source": [
    "## Преобразование датасета с использованием TensorDataSet и DataLoader"
   ]
  },
  {
   "cell_type": "code",
   "execution_count": 15,
   "metadata": {},
   "outputs": [],
   "source": [
    "train_ds = TensorDataset(torch.from_numpy(X_train).type(torch.float32),\n",
    "                         torch.from_numpy(y_train).type(torch.float32))\n",
    "train_dl = DataLoader(train_ds, batch_size=256, shuffle=True)\n",
    "\n",
    "test_ds = TensorDataset(torch.from_numpy(X_test), torch.from_numpy(y_test))\n",
    "test_dl = DataLoader(test_ds, batch_size=256, shuffle=True)"
   ]
  },
  {
   "cell_type": "markdown",
   "metadata": {},
   "source": [
    "## Разбиение на батчи"
   ]
  },
  {
   "cell_type": "code",
   "execution_count": 16,
   "metadata": {},
   "outputs": [
    {
     "data": {
      "text/plain": [
       "(torch.Size([256, 15]), torch.Size([256, 1]))"
      ]
     },
     "execution_count": 16,
     "metadata": {},
     "output_type": "execute_result"
    }
   ],
   "source": [
    "x_c, y_c = next(iter(train_dl))\n",
    "x_c.shape, y_c.shape"
   ]
  },
  {
   "cell_type": "markdown",
   "metadata": {},
   "source": [
    "## Создание полносвязной нейронной сети с помощью PyTorch"
   ]
  },
  {
   "cell_type": "code",
   "execution_count": 17,
   "metadata": {},
   "outputs": [],
   "source": [
    "import torch.nn as nn"
   ]
  },
  {
   "cell_type": "code",
   "execution_count": 18,
   "metadata": {},
   "outputs": [],
   "source": [
    "class MyRegressionModel(nn.Module):\n",
    "    # любая модель в PyTorch - это набор слоев\n",
    "    # при этом, мы сами определяем порядок их выполнения\n",
    "    # в конструкторе мы задаем набор слоев с указанием параметров\n",
    "    def __init__(self):\n",
    "        super(MyRegressionModel, self).__init__()\n",
    "        # определяем первый линейный слой (y = wx + b)\n",
    "        self.first_linear = nn.Linear(15, 120)\n",
    "        # определяем первый слой ReLU\n",
    "        self.relu = nn.ReLU()\n",
    "        self.sigmoida = nn.Sigmoid()\n",
    "        self.second_linear = nn.Linear(120, 240)\n",
    "        self.third_linear = nn.Linear(240, 60)\n",
    "        self.fourth_linear = nn.Linear(60, 20)\n",
    "        self.fifth_linear = nn.Linear(20, 1)\n",
    "\n",
    "    # в методе forward мы определяем, как слои будут связаны друг с другом\n",
    "    def forward(self, x):\n",
    "        # y - результат выполнения первого слоя\n",
    "        y = self.first_linear(x)\n",
    "        # в теперь продолжаем накидывать оставшиеся слои\n",
    "        y = self.relu(y)\n",
    "        y = self.second_linear(y)\n",
    "        y = self.relu(y)\n",
    "        y = self.third_linear(y)\n",
    "        y = self.relu(y)\n",
    "        y = self.fourth_linear(y)\n",
    "        y = self.relu(y)\n",
    "        y = self.fifth_linear(y)\n",
    "        y = self.sigmoida(y)\n",
    "        return y"
   ]
  },
  {
   "cell_type": "code",
   "execution_count": 19,
   "metadata": {},
   "outputs": [],
   "source": [
    "model = MyRegressionModel()"
   ]
  },
  {
   "cell_type": "code",
   "execution_count": 20,
   "metadata": {},
   "outputs": [
    {
     "name": "stdout",
     "output_type": "stream",
     "text": [
      "MyRegressionModel(\n",
      "  (first_linear): Linear(in_features=15, out_features=120, bias=True)\n",
      "  (relu): ReLU()\n",
      "  (sigmoida): Sigmoid()\n",
      "  (second_linear): Linear(in_features=120, out_features=240, bias=True)\n",
      "  (third_linear): Linear(in_features=240, out_features=60, bias=True)\n",
      "  (fourth_linear): Linear(in_features=60, out_features=20, bias=True)\n",
      "  (fifth_linear): Linear(in_features=20, out_features=1, bias=True)\n",
      ")\n"
     ]
    }
   ],
   "source": [
    "print(model)"
   ]
  },
  {
   "cell_type": "markdown",
   "metadata": {},
   "source": [
    "### Функция потерь"
   ]
  },
  {
   "cell_type": "code",
   "execution_count": 21,
   "metadata": {},
   "outputs": [],
   "source": [
    "loss = nn.MSELoss()\n",
    "optimizer = torch.optim.Adam(model.parameters(), lr=0.0025)"
   ]
  },
  {
   "cell_type": "markdown",
   "metadata": {},
   "source": [
    "### Обучение"
   ]
  },
  {
   "cell_type": "code",
   "execution_count": 22,
   "metadata": {},
   "outputs": [
    {
     "name": "stdout",
     "output_type": "stream",
     "text": [
      "Эпоха 1, Значение функции потерь: 0.09122172743082047\n",
      "Эпоха 2, Значение функции потерь: 0.09685184806585312\n",
      "Эпоха 3, Значение функции потерь: 0.06952374428510666\n",
      "Эпоха 4, Значение функции потерь: 0.006018286570906639\n",
      "Эпоха 5, Значение функции потерь: 0.0020388267002999783\n",
      "Эпоха 6, Значение функции потерь: 0.09074535965919495\n",
      "Эпоха 7, Значение функции потерь: 0.13692475855350494\n",
      "Эпоха 8, Значение функции потерь: 0.00478344177827239\n",
      "Эпоха 9, Значение функции потерь: 0.07327857613563538\n",
      "Эпоха 10, Значение функции потерь: 0.0022220718674361706\n",
      "Эпоха 11, Значение функции потерь: 0.04111183062195778\n",
      "Эпоха 12, Значение функции потерь: 0.09083342552185059\n",
      "Эпоха 13, Значение функции потерь: 0.007106516044586897\n",
      "Эпоха 14, Значение функции потерь: 0.09611594676971436\n",
      "Эпоха 15, Значение функции потерь: 0.05016898363828659\n",
      "Эпоха 16, Значение функции потерь: 0.13284900784492493\n",
      "Эпоха 17, Значение функции потерь: 0.0022261354606598616\n",
      "Эпоха 18, Значение функции потерь: 0.0012927378993481398\n",
      "Эпоха 19, Значение функции потерь: 0.04306848347187042\n",
      "Эпоха 20, Значение функции потерь: 0.10826858133077621\n",
      "Эпоха 21, Значение функции потерь: 0.012002040632069111\n",
      "Эпоха 22, Значение функции потерь: 0.052601054310798645\n",
      "Эпоха 23, Значение функции потерь: 0.008400989696383476\n",
      "Эпоха 24, Значение функции потерь: 0.049953922629356384\n",
      "Эпоха 25, Значение функции потерь: 0.1169874519109726\n",
      "Эпоха 26, Значение функции потерь: 0.02340627834200859\n",
      "Эпоха 27, Значение функции потерь: 0.0023340932093560696\n",
      "Эпоха 28, Значение функции потерь: 0.007697814144194126\n",
      "Эпоха 29, Значение функции потерь: 0.06408127397298813\n",
      "Эпоха 30, Значение функции потерь: 0.013404186815023422\n",
      "Эпоха 31, Значение функции потерь: 0.04521356523036957\n",
      "Эпоха 32, Значение функции потерь: 0.04384200647473335\n",
      "Эпоха 33, Значение функции потерь: 0.0034321853891015053\n",
      "Эпоха 34, Значение функции потерь: 0.0380893312394619\n",
      "Эпоха 35, Значение функции потерь: 0.06803640723228455\n",
      "Эпоха 36, Значение функции потерь: 0.0003808578185271472\n",
      "Эпоха 37, Значение функции потерь: 0.0013878062600269914\n",
      "Эпоха 38, Значение функции потерь: 0.0037477733567357063\n",
      "Эпоха 39, Значение функции потерь: 0.10577020049095154\n",
      "Эпоха 40, Значение функции потерь: 0.04611947014927864\n",
      "Эпоха 41, Значение функции потерь: 0.00840274803340435\n",
      "Эпоха 42, Значение функции потерь: 0.048626553267240524\n",
      "Эпоха 43, Значение функции потерь: 0.047466784715652466\n",
      "Эпоха 44, Значение функции потерь: 0.0011094444198533893\n",
      "Эпоха 45, Значение функции потерь: 0.0013082888908684254\n",
      "Эпоха 46, Значение функции потерь: 0.09495600312948227\n",
      "Эпоха 47, Значение функции потерь: 0.0035453971941024065\n",
      "Эпоха 48, Значение функции потерь: 0.00284215179271996\n",
      "Эпоха 49, Значение функции потерь: 0.04525403678417206\n",
      "Эпоха 50, Значение функции потерь: 0.000562268600333482\n"
     ]
    }
   ],
   "source": [
    "epochs = 50\n",
    "for epoch in range(epochs):\n",
    "    for x_b, y_b in train_dl:\n",
    "        outputs = model(x_b)\n",
    "        loss_value = loss(outputs, y_b)\n",
    "        loss_value.backward()\n",
    "        optimizer.step()\n",
    "        optimizer.zero_grad()\n",
    "\n",
    "    # в конце эпохи выводим значение функции потерь для последнего рассмотренного батча\n",
    "    print(f'Эпоха {epoch + 1}, Значение функции потерь: {loss_value.item()}')"
   ]
  },
  {
   "cell_type": "markdown",
   "metadata": {},
   "source": [
    "### Проверка"
   ]
  },
  {
   "cell_type": "code",
   "execution_count": 23,
   "metadata": {},
   "outputs": [
    {
     "name": "stdout",
     "output_type": "stream",
     "text": [
      "              precision    recall  f1-score   support\n",
      "\n",
      "           0       0.97      0.91      0.94      9579\n",
      "           1       0.91      0.97      0.94      9579\n",
      "\n",
      "    accuracy                           0.94     19158\n",
      "   macro avg       0.94      0.94      0.94     19158\n",
      "weighted avg       0.94      0.94      0.94     19158\n",
      "\n"
     ]
    }
   ],
   "source": [
    "y_pred = model(torch.from_numpy(X_test).type(torch.float32))\n",
    "y_pred = torch.round(y_pred)\n",
    "# для преобразования тензора в массив numpy используем функцию numpy()\n",
    "# но поскольку y_pred у нас требует градиент (requires_grad), предварительно используем функцию detach()\n",
    "# она удаляет градиент\n",
    "print(classification_report(y_test, y_pred.detach().numpy()))"
   ]
  }
 ],
 "metadata": {
  "kernelspec": {
   "display_name": ".venv",
   "language": "python",
   "name": "python3"
  },
  "language_info": {
   "codemirror_mode": {
    "name": "ipython",
    "version": 3
   },
   "file_extension": ".py",
   "mimetype": "text/x-python",
   "name": "python",
   "nbconvert_exporter": "python",
   "pygments_lexer": "ipython3",
   "version": "3.12.3"
  }
 },
 "nbformat": 4,
 "nbformat_minor": 2
}
